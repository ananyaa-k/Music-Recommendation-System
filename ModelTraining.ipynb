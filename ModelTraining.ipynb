{
 "cells": [
  {
   "cell_type": "code",
   "execution_count": 42,
   "id": "e32ff373",
   "metadata": {},
   "outputs": [],
   "source": [
    "import pandas as pd"
   ]
  },
  {
   "cell_type": "code",
   "execution_count": 43,
   "id": "166e41c9",
   "metadata": {},
   "outputs": [],
   "source": [
    "df = pd.read_csv(\"C:\\Users\\redhu\\OneDrive\\Desktop\\spotify_millsongdata.csv\")"
   ]
  },
  {
   "cell_type": "code",
   "execution_count": 44,
   "id": "8ad8668c",
   "metadata": {},
   "outputs": [
    {
     "data": {
      "text/plain": [
       "(57650, 4)"
      ]
     },
     "execution_count": 44,
     "metadata": {},
     "output_type": "execute_result"
    }
   ],
   "source": [
    "df.shape"
   ]
  },
  {
   "cell_type": "code",
   "execution_count": 45,
   "id": "8cae1d95",
   "metadata": {},
   "outputs": [
    {
     "data": {
      "text/plain": [
       "artist    0\n",
       "song      0\n",
       "link      0\n",
       "text      0\n",
       "dtype: int64"
      ]
     },
     "execution_count": 45,
     "metadata": {},
     "output_type": "execute_result"
    }
   ],
   "source": [
    "df.isnull().sum()"
   ]
  },
  {
   "cell_type": "code",
   "execution_count": 47,
   "id": "b22c9cc6",
   "metadata": {},
   "outputs": [],
   "source": [
    "df = df.sample(5000).drop('link', axis=1).reset_index(drop=True)"
   ]
  },
  {
   "cell_type": "code",
   "execution_count": 48,
   "id": "c86f24d3",
   "metadata": {},
   "outputs": [
    {
     "data": {
      "text/html": [
       "<div>\n",
       "<style scoped>\n",
       "    .dataframe tbody tr th:only-of-type {\n",
       "        vertical-align: middle;\n",
       "    }\n",
       "\n",
       "    .dataframe tbody tr th {\n",
       "        vertical-align: top;\n",
       "    }\n",
       "\n",
       "    .dataframe thead th {\n",
       "        text-align: right;\n",
       "    }\n",
       "</style>\n",
       "<table border=\"1\" class=\"dataframe\">\n",
       "  <thead>\n",
       "    <tr style=\"text-align: right;\">\n",
       "      <th></th>\n",
       "      <th>artist</th>\n",
       "      <th>song</th>\n",
       "      <th>text</th>\n",
       "    </tr>\n",
       "  </thead>\n",
       "  <tbody>\n",
       "  </tbody>\n",
       "</table>\n",
       "</div>"
      ],
      "text/plain": [
       "Empty DataFrame\n",
       "Columns: [artist, song, text]\n",
       "Index: []"
      ]
     },
     "execution_count": 48,
     "metadata": {},
     "output_type": "execute_result"
    }
   ],
   "source": [
    "df.head(0)"
   ]
  },
  {
   "cell_type": "code",
   "execution_count": 49,
   "id": "56dd9159",
   "metadata": {},
   "outputs": [],
   "source": [
    "df = df.sample(5000)"
   ]
  },
  {
   "cell_type": "code",
   "execution_count": 50,
   "id": "99312a76",
   "metadata": {},
   "outputs": [
    {
     "data": {
      "text/plain": [
       "(5000, 3)"
      ]
     },
     "execution_count": 50,
     "metadata": {},
     "output_type": "execute_result"
    }
   ],
   "source": [
    "df.shape"
   ]
  },
  {
   "cell_type": "code",
   "execution_count": 51,
   "id": "33b12dd0",
   "metadata": {},
   "outputs": [],
   "source": [
    "df['text']=df['text'].str.lower().replace(r'^\\w\\s', ' ').replace(r'\\n', ' ',regex=True)"
   ]
  },
  {
   "cell_type": "code",
   "execution_count": 52,
   "id": "f621eb3d",
   "metadata": {},
   "outputs": [],
   "source": [
    "import nltk"
   ]
  },
  {
   "cell_type": "code",
   "execution_count": 53,
   "id": "d9ba95ef",
   "metadata": {},
   "outputs": [],
   "source": [
    "from nltk.stem.porter import PorterStemmer"
   ]
  },
  {
   "cell_type": "code",
   "execution_count": 54,
   "id": "2e411202",
   "metadata": {},
   "outputs": [],
   "source": [
    "stemmer = PorterStemmer()"
   ]
  },
  {
   "cell_type": "code",
   "execution_count": 55,
   "id": "66e2135f",
   "metadata": {},
   "outputs": [],
   "source": [
    "def token(txt):\n",
    "    token=nltk.word_tokenize(txt)\n",
    "    a=[stemmer.stem(w) for w in token]\n",
    "    return ' '.join(a)"
   ]
  },
  {
   "cell_type": "code",
   "execution_count": 56,
   "id": "242aaca8",
   "metadata": {},
   "outputs": [
    {
     "data": {
      "text/plain": [
       "'you are beauti , beauti'"
      ]
     },
     "execution_count": 56,
     "metadata": {},
     "output_type": "execute_result"
    }
   ],
   "source": [
    "token(\"you are beautiful, beauty\")"
   ]
  },
  {
   "cell_type": "code",
   "execution_count": 57,
   "id": "bb985897",
   "metadata": {},
   "outputs": [
    {
     "data": {
      "text/plain": [
       "4970    ooh i promis not to do it again i promis not t...\n",
       "3647    you have my heart and we 'll never be world ap...\n",
       "2911    i been gettin ' lone , too much these day . i ...\n",
       "1027    one for the money , ye sir , two for the show ...\n",
       "2067    possess never meant anyth to me i 'm not crazi...\n",
       "                              ...                        \n",
       "2147    pacidi , my love glow ember of even your eye a...\n",
       "1440    in the wake spring , softli you would bring , ...\n",
       "2236    i should have learn thi lesson long ago that f...\n",
       "2712    i 'll tell you whi i ca n't find you everi tim...\n",
       "1812    is there a better way is there a better way is...\n",
       "Name: text, Length: 5000, dtype: object"
      ]
     },
     "execution_count": 57,
     "metadata": {},
     "output_type": "execute_result"
    }
   ],
   "source": [
    "df['text'].apply(lambda x: token(x))"
   ]
  },
  {
   "cell_type": "code",
   "execution_count": 58,
   "id": "20274183",
   "metadata": {},
   "outputs": [],
   "source": [
    "from sklearn.feature_extraction.text import TfidfVectorizer"
   ]
  },
  {
   "cell_type": "code",
   "execution_count": 59,
   "id": "fabfb27d",
   "metadata": {},
   "outputs": [],
   "source": [
    "from sklearn.metrics.pairwise import cosine_similarity"
   ]
  },
  {
   "cell_type": "code",
   "execution_count": 60,
   "id": "1a42ea16",
   "metadata": {},
   "outputs": [],
   "source": [
    "tfid= TfidfVectorizer(analyzer='word', stop_words='english')"
   ]
  },
  {
   "cell_type": "code",
   "execution_count": 61,
   "id": "1836787d",
   "metadata": {},
   "outputs": [],
   "source": [
    "matrix = tfid.fit_transform(df['text'])"
   ]
  },
  {
   "cell_type": "code",
   "execution_count": 62,
   "id": "a9794c79",
   "metadata": {},
   "outputs": [],
   "source": [
    "similar = cosine_similarity(matrix)"
   ]
  },
  {
   "cell_type": "code",
   "execution_count": 63,
   "id": "8cc6669a",
   "metadata": {},
   "outputs": [
    {
     "data": {
      "text/plain": [
       "array([1.        , 0.01667036, 0.07387155, ..., 0.1591294 , 0.06249481,\n",
       "       0.05596683])"
      ]
     },
     "execution_count": 63,
     "metadata": {},
     "output_type": "execute_result"
    }
   ],
   "source": [
    "similar[0]"
   ]
  },
  {
   "cell_type": "code",
   "execution_count": 64,
   "id": "1e10499f",
   "metadata": {},
   "outputs": [
    {
     "data": {
      "text/html": [
       "<div>\n",
       "<style scoped>\n",
       "    .dataframe tbody tr th:only-of-type {\n",
       "        vertical-align: middle;\n",
       "    }\n",
       "\n",
       "    .dataframe tbody tr th {\n",
       "        vertical-align: top;\n",
       "    }\n",
       "\n",
       "    .dataframe thead th {\n",
       "        text-align: right;\n",
       "    }\n",
       "</style>\n",
       "<table border=\"1\" class=\"dataframe\">\n",
       "  <thead>\n",
       "    <tr style=\"text-align: right;\">\n",
       "      <th></th>\n",
       "      <th>artist</th>\n",
       "      <th>song</th>\n",
       "      <th>text</th>\n",
       "    </tr>\n",
       "  </thead>\n",
       "  <tbody>\n",
       "    <tr>\n",
       "      <th>4970</th>\n",
       "      <td>John Legend</td>\n",
       "      <td>Number One</td>\n",
       "      <td>ooh i promise not to do it again  \\r i promise...</td>\n",
       "    </tr>\n",
       "    <tr>\n",
       "      <th>3647</th>\n",
       "      <td>Train</td>\n",
       "      <td>Umbrella</td>\n",
       "      <td>you have my heart  \\r and we'll never be world...</td>\n",
       "    </tr>\n",
       "    <tr>\n",
       "      <th>2911</th>\n",
       "      <td>Grand Funk Railroad</td>\n",
       "      <td>Gotta Find Me A Better Day</td>\n",
       "      <td>i been gettin' lonely, too much these days.  \\...</td>\n",
       "    </tr>\n",
       "    <tr>\n",
       "      <th>1027</th>\n",
       "      <td>Outkast</td>\n",
       "      <td>Elevators (Me And You)</td>\n",
       "      <td>one for the money, yes sir, two for the show  ...</td>\n",
       "    </tr>\n",
       "    <tr>\n",
       "      <th>2067</th>\n",
       "      <td>NOFX</td>\n",
       "      <td>Linoleum</td>\n",
       "      <td>possessions never meant anything to me  \\r i'm...</td>\n",
       "    </tr>\n",
       "  </tbody>\n",
       "</table>\n",
       "</div>"
      ],
      "text/plain": [
       "                   artist                        song  \\\n",
       "4970          John Legend                  Number One   \n",
       "3647                Train                    Umbrella   \n",
       "2911  Grand Funk Railroad  Gotta Find Me A Better Day   \n",
       "1027              Outkast      Elevators (Me And You)   \n",
       "2067                 NOFX                    Linoleum   \n",
       "\n",
       "                                                   text  \n",
       "4970  ooh i promise not to do it again  \\r i promise...  \n",
       "3647  you have my heart  \\r and we'll never be world...  \n",
       "2911  i been gettin' lonely, too much these days.  \\...  \n",
       "1027  one for the money, yes sir, two for the show  ...  \n",
       "2067  possessions never meant anything to me  \\r i'm...  "
      ]
     },
     "execution_count": 64,
     "metadata": {},
     "output_type": "execute_result"
    }
   ],
   "source": [
    "df.head(5)"
   ]
  },
  {
   "cell_type": "code",
   "execution_count": 66,
   "id": "d14dd760",
   "metadata": {},
   "outputs": [
    {
     "data": {
      "text/plain": [
       "4970"
      ]
     },
     "execution_count": 66,
     "metadata": {},
     "output_type": "execute_result"
    }
   ],
   "source": [
    "df[df['song']=='Number One'].index[0]"
   ]
  },
  {
   "cell_type": "code",
   "execution_count": 71,
   "id": "4f3ad3ea",
   "metadata": {},
   "outputs": [],
   "source": [
    "def recommender(song_name):\n",
    "    idx=df[df['song']==song_name].index[0]\n",
    "    distance=sorted(list(enumerate(similar[idx])), reverse = True, key = lambda x:x[1])\n",
    "    song = []\n",
    "    for s_id in distance[1:21]:\n",
    "        song.append(df.iloc[s_id[0]].song)\n",
    "    return song"
   ]
  },
  {
   "cell_type": "code",
   "execution_count": 73,
   "id": "64a0f673",
   "metadata": {},
   "outputs": [
    {
     "data": {
      "text/plain": [
       "['I Love My Dog',\n",
       " \"It's Only Love\",\n",
       " 'Where Do We Go From Here',\n",
       " 'Shelter Me',\n",
       " 'Come To Me, Do',\n",
       " 'Feels Good At First',\n",
       " 'Meet Your Master',\n",
       " 'Little Bird',\n",
       " 'Novocaine',\n",
       " 'Haunted Bumps',\n",
       " 'Out In The Open',\n",
       " \"What's My Name\",\n",
       " 'Man In The Mirror',\n",
       " 'Love Was Here',\n",
       " 'Star',\n",
       " 'Soap And Water',\n",
       " 'The Full Monty Medley',\n",
       " 'Closer Than You Know',\n",
       " 'So In Love With You (Duke)',\n",
       " 'Lift Your Name Up']"
      ]
     },
     "execution_count": 73,
     "metadata": {},
     "output_type": "execute_result"
    }
   ],
   "source": [
    "recommender('In Your Eyes')"
   ]
  },
  {
   "cell_type": "code",
   "execution_count": 74,
   "id": "d06e4421",
   "metadata": {},
   "outputs": [],
   "source": [
    "import pickle"
   ]
  },
  {
   "cell_type": "code",
   "execution_count": 75,
   "id": "6db8727e",
   "metadata": {},
   "outputs": [],
   "source": [
    "pickle.dump(similar, open('similarity', 'wb'))"
   ]
  },
  {
   "cell_type": "code",
   "execution_count": 76,
   "id": "b38541a1",
   "metadata": {},
   "outputs": [],
   "source": [
    "pickle.dump(df, open('df', 'wb'))"
   ]
  },
  {
   "cell_type": "code",
   "execution_count": null,
   "id": "daea59bf",
   "metadata": {},
   "outputs": [],
   "source": []
  }
 ],
 "metadata": {
  "kernelspec": {
   "display_name": "Python 3 (ipykernel)",
   "language": "python",
   "name": "python3"
  },
  "language_info": {
   "codemirror_mode": {
    "name": "ipython",
    "version": 3
   },
   "file_extension": ".py",
   "mimetype": "text/x-python",
   "name": "python",
   "nbconvert_exporter": "python",
   "pygments_lexer": "ipython3",
   "version": "3.10.9"
  }
 },
 "nbformat": 4,
 "nbformat_minor": 5
}
